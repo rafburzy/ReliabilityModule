{
 "cells": [
  {
   "cell_type": "markdown",
   "metadata": {},
   "source": [
    "## Reliability calculations module"
   ]
  },
  {
   "cell_type": "markdown",
   "metadata": {},
   "source": [
    "### Plotting reliability\n",
    "\n",
    "Reliability formula: <br>\n",
    "\n",
    "$\\begin{equation} \\mathrm{R} = e^{(\\frac{-t}{\\eta})^{\\beta}} \\end{equation}$"
   ]
  },
  {
   "cell_type": "code",
   "execution_count": 1,
   "metadata": {
    "collapsed": true
   },
   "outputs": [],
   "source": [
    "import numpy as np\n",
    "from math import exp, log, ceil\n",
    "import matplotlib.pyplot as plt\n",
    "%matplotlib inline"
   ]
  },
  {
   "cell_type": "code",
   "execution_count": 2,
   "metadata": {},
   "outputs": [
    {
     "data": {
      "image/png": "[encoded data removed]",
      "text/plain": [
       "<matplotlib.figure.Figure at 0x8f56518>"
      ]
     },
     "metadata": {},
     "output_type": "display_data"
    }
   ],
   "source": [
    "# characteristic life\n",
    "eta = 448.3\n",
    "\n",
    "# beta\n",
    "beta = [1.5, 1.0, 2.0, 0.5]\n",
    "\n",
    "# operations\n",
    "t = np.linspace(0, 1000, 100)\n",
    "\n",
    "def plotReliability(eta, beta, t):\n",
    "    '''Plots reliability based on formula\n",
    "    \n",
    "    R = exp(-t/eta)**beta\n",
    "    \n",
    "    Inputs:\n",
    "    -------------\n",
    "    eta : float (mandatory)\n",
    "        characteristic life\n",
    "    beta : list (mandatory)\n",
    "        exponent in the equation\n",
    "    t : list or 1d array (mandatory) \n",
    "        number of cycles or operations\n",
    "        \n",
    "    Returns:\n",
    "    -------------\n",
    "    Plot of reliability as a function of operations/cycles\n",
    "    '''\n",
    "    # reliability\n",
    "    R = np.empty([len(t), len(beta)])\n",
    "    for i in range(len(beta)):\n",
    "        for k in range(len(t)):\n",
    "            R[k,i] = exp(-(t[k]/eta)**beta[i])\n",
    "    \n",
    "    # plotting\n",
    "    for m in range(len(beta)):\n",
    "        plt.plot(t, R[:,m], label = \"beta = %s\" %beta[m])\n",
    "    plt.xlabel(\"Number of operations\")\n",
    "    plt.ylabel(\"Reliability\")\n",
    "    plt.grid(True)\n",
    "    plt.legend();\n",
    "\n",
    "plotReliability(eta, beta, t)"
   ]
  },
  {
   "cell_type": "markdown",
   "metadata": {},
   "source": [
    "## Non-parametric binomial calculations\n",
    "\n",
    "### Reliability and number of samples calculation"
   ]
  },
  {
   "cell_type": "code",
   "execution_count": 3,
   "metadata": {},
   "outputs": [],
   "source": [
    "# functions definitions\n",
    "\n",
    "def calculateReliabilityNPB (samples, CL, fails = 0):\n",
    "    '''Calculate reliability based on confidence limits and number of samples.\n",
    "    This version takes into account non-parametric binomial distribution\n",
    "    \n",
    "    Inputs:\n",
    "    ------------\n",
    "    samples: float\n",
    "        number of tested samples\n",
    "    CL: float\n",
    "        confidence limits\n",
    "    fails: float (optional)\n",
    "        number of failed samples (by default none)\n",
    "        \n",
    "    Returns:\n",
    "    ------------\n",
    "    reliability: foat\n",
    "        reliability number\n",
    "    \n",
    "    '''\n",
    "    return (1-CL)**(1/samples)\n",
    "\n",
    "def calculateSamplesNPB(rel, CL, fails=0):\n",
    "    '''\n",
    "    Calculate number of samples to prove required reliability @ given confidence limits.\n",
    "    This version takes into account non-parametric binomial distribution\n",
    "    \n",
    "    Inputs:\n",
    "    ------------\n",
    "    rel: float\n",
    "        target reliability\n",
    "    CL: float\n",
    "        confidence limits\n",
    "    fails: float (optional)\n",
    "        number of failed samples (by default none)\n",
    "        \n",
    "    Returns:\n",
    "    ------------\n",
    "    samples: foat\n",
    "        number of samples for the test\n",
    "    '''\n",
    "    # math.ceil is used to round up to the next full int number\n",
    "    return ceil(log(1-CL, rel))"
   ]
  },
  {
   "cell_type": "code",
   "execution_count": 4,
   "metadata": {},
   "outputs": [
    {
     "data": {
      "text/plain": [
       "(0.7937005259840998, 7)"
      ]
     },
     "execution_count": 4,
     "metadata": {},
     "output_type": "execute_result"
    }
   ],
   "source": [
    "# Reliability\n",
    "R1 = calculateReliabilityNPB(3, 0.5)\n",
    "\n",
    "# number of samples\n",
    "n1 = calculateSamplesNPB(0.9, 0.5)\n",
    "\n",
    "(R1, n1)"
   ]
  },
  {
   "cell_type": "code",
   "execution_count": null,
   "metadata": {
    "collapsed": true
   },
   "outputs": [],
   "source": []
  }
 ],
 "metadata": {
  "kernelspec": {
   "display_name": "Python 3",
   "language": "python",
   "name": "python3"
  },
  "language_info": {
   "codemirror_mode": {
    "name": "ipython",
    "version": 3
   },
   "file_extension": ".py",
   "mimetype": "text/x-python",
   "name": "python",
   "nbconvert_exporter": "python",
   "pygments_lexer": "ipython3",
   "version": "3.6.0"
  }
 },
 "nbformat": 4,
 "nbformat_minor": 2
}
